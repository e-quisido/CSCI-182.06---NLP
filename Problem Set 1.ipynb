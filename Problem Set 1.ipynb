{
 "cells": [
  {
   "cell_type": "markdown",
   "metadata": {},
   "source": [
    "# Problem Set 1 CS174"
   ]
  },
  {
   "cell_type": "markdown",
   "metadata": {},
   "source": [
    "The following problem set will focus on the lessons on Python and basic string manipulation. Answer the following guide questions by writing functions or code in cells that accomplish the requirements."
   ]
  },
  {
   "cell_type": "markdown",
   "metadata": {},
   "source": [
    "1. Write a function to check whether a string is a palindrome. (A palindrome is a string that reads the same forwards and backwards) **1 pt.**"
   ]
  },
  {
   "cell_type": "code",
   "execution_count": 1,
   "metadata": {},
   "outputs": [
    {
     "name": "stdout",
     "output_type": "stream",
     "text": [
      "True\n"
     ]
    }
   ],
   "source": [
    "def palindrome(n):\n",
    "    print(n[::-1] == n)\n",
    "    \n",
    "string = \"Racecar\"\n",
    "string = \"\".join((string.lower()).split())\n",
    "palindrome(string)"
   ]
  },
  {
   "cell_type": "markdown",
   "metadata": {},
   "source": [
    "2. Write a function that checks whether a number is prime or not **1 pt.**"
   ]
  },
  {
   "cell_type": "code",
   "execution_count": 2,
   "metadata": {},
   "outputs": [
    {
     "name": "stdout",
     "output_type": "stream",
     "text": [
      "True\n"
     ]
    }
   ],
   "source": [
    "def prime(x):\n",
    "    if x > 1:\n",
    "        for i in range (2, x):\n",
    "            if not x % i:\n",
    "                return False\n",
    "        return True\n",
    "x = int(\"2971\")\n",
    "print(prime(x))"
   ]
  },
  {
   "cell_type": "markdown",
   "metadata": {},
   "source": [
    "3. Load `data/allstar.txt` and create a dictionary where the keys are the verses or chorus numbers, and the values are the chords for that part of the song. **4 pts.**"
   ]
  },
  {
   "cell_type": "code",
   "execution_count": 3,
   "metadata": {},
   "outputs": [
    {
     "name": "stdout",
     "output_type": "stream",
     "text": [
      "{'verse1': 'G, D, Am, C, G, D, Am, C, G, D, Am, C, G, D, Am, C, G, D, Am, C, G, D, Am, C, G, D, Am, C, G, D, Am, C', 'chorus1': 'G, C, C#m, C, G, C, C#m, C, G, C, C#m, C, G, F, C', 'verse2': 'G, D, Am, C, G, D, Am, C, G, D, Am, C, G, D, Am, C', 'chorus2': 'G, C, C#m, C, G, C, C#m, C, G, C, C#m, C, G, F, C, G, C, C#m, C, G, C, C#m, C, G, C, C#m, C, G, F, C', 'verse3': 'G, D, Am, C, G, D, Am, C, G, D, Am, C, G, D, Am, C, G, D, Am, C, G, D, Am, C, G, D, Am, C, G, D, Am, C', 'chorus3': 'G, C, C#m, C, G, C, C#m, C, G, C, C#m, C, G, F, C'}\n"
     ]
    }
   ],
   "source": [
    "v1 = 0\n",
    "c1 = 25\n",
    "v2 = 34\n",
    "c2 = 51\n",
    "v3 = 68\n",
    "c3 = 93\n",
    "\n",
    "with open(\"allstar.txt\", \"r\") as f:\n",
    "    allstar = f.readlines()\n",
    "    allstar = [line.strip() for line in allstar if line != \" \\n\"]\n",
    "\n",
    "def removeit(l): #Got rid of the labels: [Verse 1], etc.\n",
    "    for i in l:\n",
    "        if \"[V\" in i:\n",
    "            l.remove(i)\n",
    "        elif \"[C\" in i:\n",
    "            l.remove(i)\n",
    "\n",
    "removeit(allstar)\n",
    "\n",
    "chords = {\n",
    "    \"verse1\":', '.join([\", \".join(str(c).split()) for c in (allstar[v1:c1-1:2])]),\n",
    "    \"chorus1\":', '.join([\", \".join(str(c).split()) for c in (allstar[c1-1:v2-2:2])]),\n",
    "    \"verse2\":', '.join([\", \".join(str(c).split()) for c in (allstar[v2-2:c2-3:2])]),\n",
    "    \"chorus2\":', '.join([\", \".join(str(c).split()) for c in (allstar[c2-3:v3-4:2])]),\n",
    "    \"verse3\":', '.join([\", \".join(str(c).split()) for c in (allstar[v3-4:c3-5:2])]),\n",
    "    \"chorus3\":', '.join([\", \".join(str(c).split()) for c in (allstar[c3-5::2])])\n",
    "}\n",
    "\n",
    "print(chords)"
   ]
  },
  {
   "cell_type": "markdown",
   "metadata": {},
   "source": [
    "4. Build a dictionary from `data/allstar.txt` where the keys are the unique words, and the values are the number of times the word appeared in the song. **4 pts.**"
   ]
  },
  {
   "cell_type": "code",
   "execution_count": 4,
   "metadata": {},
   "outputs": [
    {
     "name": "stdout",
     "output_type": "stream",
     "text": [
      "{'somebody': 2, 'once': 2, 'told': 1, 'me': 2, 'the': 26, 'world': 1, 'is': 6, 'gonna': 1, 'roll': 1, 'i': 8, \"ain't\": 1, 'sharpest': 1, 'tool': 1, 'in': 3, 'shed': 1, 'she': 1, 'was': 1, 'looking': 1, 'kinda': 1, 'dumb': 3, 'with': 3, 'her': 3, 'finger': 1, 'and': 12, 'thumb': 1, 'shape': 1, 'of': 1, 'an': 5, '\"l\"': 1, 'on': 6, 'forehead': 1, 'well': 3, 'years': 2, 'start': 2, 'coming': 4, 'they': 3, \"don't\": 6, 'stop': 2, 'back': 4, 'to': 10, 'rules': 2, 'hit': 2, 'ground': 2, 'running': 2, \"didn't\": 2, 'make': 2, 'sense': 2, 'not': 2, 'live': 2, 'for': 3, 'fun': 2, 'your': 8, 'brain': 2, 'gets': 5, 'smart': 2, 'but': 4, 'head': 2, 'so': 7, 'much': 4, 'do': 2, 'see': 2, \"what's\": 2, 'wrong': 2, 'taking': 2, 'streets': 2, \"you'll\": 4, 'never': 5, 'know': 2, 'if': 4, 'you': 7, 'go': 6, 'shine': 2, 'glow': 2, 'hey': 8, 'now': 9, \"you're\": 9, 'all': 9, 'star': 8, 'get': 15, 'game': 4, 'on,': 4, 'play': 4, 'a': 8, 'rock': 4, 'show': 4, 'paid': 4, 'that': 4, 'glitters': 4, 'gold': 4, 'only': 4, 'shooting': 4, 'stars': 4, 'break': 4, 'mold': 4, \"it's\": 1, 'cool': 1, 'place': 2, 'say': 1, 'it': 2, 'colder': 1, 'bundled': 1, 'up': 1, 'wait': 1, \"'til\": 1, 'older': 1, 'media': 1, 'men': 1, 'beg': 1, 'differ': 1, 'judging': 1, 'by': 1, 'hole': 1, 'satellite': 1, 'picture': 1, 'ice': 1, 'we': 2, 'skate': 1, 'getting': 2, 'pretty': 1, 'thin': 1, 'waters': 1, 'warm': 1, 'might': 1, 'as': 1, 'swim': 1, 'my': 1, \"world's\": 1, 'fire': 1, 'how': 1, 'about': 1, 'yours': 1, \"that's\": 1, 'way': 1, 'like': 1, 'bored': 1, 'asked,': 1, 'could': 3, 'spare': 1, 'some': 1, 'change': 2, 'gas': 1, 'need': 1, 'myself': 2, 'away': 1, 'from': 1, 'this': 1, 'said': 1, 'yep': 1, 'what': 1, 'concept': 1, 'use': 2, 'little': 2, 'fuel': 1}\n"
     ]
    }
   ],
   "source": [
    "lyrics = [w.lower() for line in allstar[1::2] for w in line.split()]\n",
    "\n",
    "wordcount = {}\n",
    "for w in lyrics:\n",
    "    wordcount[w] = lyrics.count(w)\n",
    "print(wordcount)"
   ]
  },
  {
   "cell_type": "markdown",
   "metadata": {},
   "source": [
    "5. Load `Rick Astley - Never Gonna Give You Up Lyrics _ AZLyrics.com.html` and find out the ff (show the code): **10 pts.**"
   ]
  },
  {
   "cell_type": "code",
   "execution_count": 8,
   "metadata": {},
   "outputs": [],
   "source": [
    "from bs4 import BeautifulSoup\n",
    "\n",
    "with open(\"Rick Astley - Never Gonna Give You Up Lyrics _ AZLyrics.com.html\") as f:\n",
    "    s = BeautifulSoup(f, \"lxml\")\n",
    "\n",
    "content = s.find(\"div\", class_=\"col-xs-12 col-lg-8 text-center\")\n",
    "lyrics = (content.find(\"div\", class_= None).text).lower()\n",
    "\n",
    "words = [word.strip(\"( ) ,\") for word in lyrics.split()]\n",
    "lines = lyrics.split(\"\\n\")\n"
   ]
  },
  {
   "cell_type": "markdown",
   "metadata": {},
   "source": [
    " - How many unique words are there?"
   ]
  },
  {
   "cell_type": "code",
   "execution_count": 9,
   "metadata": {},
   "outputs": [
    {
     "name": "stdout",
     "output_type": "stream",
     "text": [
      "78\n"
     ]
    }
   ],
   "source": [
    "print(len(set(words)))"
   ]
  },
  {
   "cell_type": "markdown",
   "metadata": {},
   "source": [
    "- List what will Rick Astley never do?"
   ]
  },
  {
   "cell_type": "code",
   "execution_count": 10,
   "metadata": {},
   "outputs": [
    {
     "name": "stdout",
     "output_type": "stream",
     "text": [
      "{'never gonna run around and desert you', 'never gonna make you cry', 'never gonna tell a lie and hurt you', 'never gonna give, never gonna give', 'never gonna let you down', 'never gonna give you up', 'never gonna say goodbye'}\n"
     ]
    }
   ],
   "source": [
    "never = [l for l in lines if l.startswith(\"never gonna\")]\n",
    "print(set(never))"
   ]
  },
  {
   "cell_type": "markdown",
   "metadata": {},
   "source": [
    "- Write a function that lists all the unique words and counts the num of occurences. Output the result as a dictionary similar to **Item 4.**"
   ]
  },
  {
   "cell_type": "code",
   "execution_count": 13,
   "metadata": {},
   "outputs": [
    {
     "name": "stdout",
     "output_type": "stream",
     "text": [
      "{\"we're\": 3, 'no': 1, 'strangers': 1, 'to': 4, 'love': 1, 'you': 41, 'know': 5, 'the': 3, 'rules': 1, 'and': 16, 'so': 3, 'do': 1, 'i': 3, 'a': 7, 'full': 1, \"commitment's\": 1, 'what': 1, \"i'm\": 4, 'thinking': 1, 'of': 1, \"wouldn't\": 1, 'get': 1, 'this': 1, 'from': 1, 'any': 1, 'other': 3, 'guy': 1, 'just': 2, 'wanna': 2, 'tell': 9, 'how': 3, 'feeling': 3, 'gotta': 2, 'make': 8, 'understand': 2, 'never': 40, 'gonna': 42, 'give': 14, 'up': 10, 'let': 6, 'down': 6, 'run': 6, 'around': 6, 'desert': 6, 'cry': 6, 'say': 8, 'goodbye': 6, 'lie': 6, 'hurt': 6, \"we've\": 2, 'known': 2, 'each': 2, 'for': 2, 'long': 2, 'your': 2, \"heart's\": 2, 'been': 4, 'aching': 2, 'but': 2, \"you're\": 3, 'too': 3, 'shy': 2, 'it': 4, 'inside': 2, 'we': 4, 'both': 2, \"what's\": 2, 'going': 2, 'on': 2, 'game': 2, 'play': 2, 'if': 1, 'ask': 1, 'me': 2, \"don't\": 1, 'blind': 1, 'see': 1, 'ooh': 2}\n"
     ]
    }
   ],
   "source": [
    "uniquecount = {}\n",
    "for i in words:\n",
    "    uniquecount[i] = words.count(i)\n",
    "print(uniquecount)"
   ]
  },
  {
   "cell_type": "markdown",
   "metadata": {},
   "source": [
    "- Use the dictionary from above to create a word count histogram."
   ]
  },
  {
   "cell_type": "code",
   "execution_count": 14,
   "metadata": {},
   "outputs": [
    {
     "data": {
      "image/png": "[encoded data removed]",
      "text/plain": [
       "<Figure size 432x288 with 1 Axes>"
      ]
     },
     "metadata": {},
     "output_type": "display_data"
    }
   ],
   "source": [
    "import matplotlib.pyplot as plt\n",
    "\n",
    "plt.style.use('ggplot')\n",
    "plt.hist(uniquecount.values(), bins = 10)\n",
    "plt.show()"
   ]
  }
 ],
 "metadata": {
  "kernelspec": {
   "display_name": "Python 3",
   "language": "python",
   "name": "python3"
  },
  "language_info": {
   "codemirror_mode": {
    "name": "ipython",
    "version": 3
   },
   "file_extension": ".py",
   "mimetype": "text/x-python",
   "name": "python",
   "nbconvert_exporter": "python",
   "pygments_lexer": "ipython3",
   "version": "3.7.3"
  }
 },
 "nbformat": 4,
 "nbformat_minor": 2
}
